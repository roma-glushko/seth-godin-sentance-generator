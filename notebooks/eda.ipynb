{
 "cells": [
  {
   "cell_type": "code",
   "execution_count": 111,
   "source": [
    "import pandas as pd\n",
    "import seaborn as sns\n",
    "import contractions\n",
    "from wordcloud import STOPWORDS"
   ],
   "outputs": [],
   "metadata": {}
  },
  {
   "cell_type": "markdown",
   "source": [
    "# Seth Godin's Blog Dataset - EDA"
   ],
   "metadata": {}
  },
  {
   "cell_type": "code",
   "execution_count": 112,
   "source": [
    "dataset = pd.read_csv('../data/seth-data.csv')\n",
    "\n",
    "dataset.head()"
   ],
   "outputs": [
    {
     "output_type": "execute_result",
     "data": {
      "text/plain": [
       "   Unnamed: 0     id                                          url  \\\n",
       "0           0  24220  https://seths.blog/2002/01/free_signed_cop/   \n",
       "1           1  24221  https://seths.blog/2002/01/free_ebook_buy_/   \n",
       "2           2  24222  https://seths.blog/2002/01/free_quiz_find_/   \n",
       "3           3  24223  https://seths.blog/2002/01/thanks_survival/   \n",
       "4           4  24224  https://seths.blog/2002/01/boring_i_was_st/   \n",
       "\n",
       "                                        title  \\\n",
       "0  Free Signed Copy of SURVIVAL IS NOT ENOUGH   \n",
       "1                                  Free eBook   \n",
       "2                                   Free Quiz   \n",
       "3                                      Thanks   \n",
       "4                                      Boring   \n",
       "\n",
       "                                       content_plain  \\\n",
       "0  Don’t know if you read the  column I wrote abo...   \n",
       "1  Buy a copy of the new paperback edition of  Th...   \n",
       "2   Find out if you zoom. My friend Red did an am...   \n",
       "3   Survival is Not Enough. hit #4 on the Denver ...   \n",
       "4  I was stranded today. I had to spend hours in ...   \n",
       "\n",
       "                                        content_html  stars  publication-date  \\\n",
       "0  Don’t know if you read the  column I wrote abo...    104  January 17, 2002   \n",
       "1  Buy a copy of the new paperback edition of  Th...    145               NaN   \n",
       "2   Find out if you zoom. My friend Red did an am...    112               NaN   \n",
       "3   Survival is Not Enough. hit #4 on the Denver ...    140               NaN   \n",
       "4  I was stranded today. I had to spend hours in ...    618  January 15, 2002   \n",
       "\n",
       "                   referral-url  \n",
       "0  https://seths.blog/page/742/  \n",
       "1  https://seths.blog/page/742/  \n",
       "2  https://seths.blog/page/742/  \n",
       "3  https://seths.blog/page/742/  \n",
       "4  https://seths.blog/page/742/  "
      ],
      "text/html": [
       "<div>\n",
       "<style scoped>\n",
       "    .dataframe tbody tr th:only-of-type {\n",
       "        vertical-align: middle;\n",
       "    }\n",
       "\n",
       "    .dataframe tbody tr th {\n",
       "        vertical-align: top;\n",
       "    }\n",
       "\n",
       "    .dataframe thead th {\n",
       "        text-align: right;\n",
       "    }\n",
       "</style>\n",
       "<table border=\"1\" class=\"dataframe\">\n",
       "  <thead>\n",
       "    <tr style=\"text-align: right;\">\n",
       "      <th></th>\n",
       "      <th>Unnamed: 0</th>\n",
       "      <th>id</th>\n",
       "      <th>url</th>\n",
       "      <th>title</th>\n",
       "      <th>content_plain</th>\n",
       "      <th>content_html</th>\n",
       "      <th>stars</th>\n",
       "      <th>publication-date</th>\n",
       "      <th>referral-url</th>\n",
       "    </tr>\n",
       "  </thead>\n",
       "  <tbody>\n",
       "    <tr>\n",
       "      <th>0</th>\n",
       "      <td>0</td>\n",
       "      <td>24220</td>\n",
       "      <td>https://seths.blog/2002/01/free_signed_cop/</td>\n",
       "      <td>Free Signed Copy of SURVIVAL IS NOT ENOUGH</td>\n",
       "      <td>Don’t know if you read the  column I wrote abo...</td>\n",
       "      <td>Don’t know if you read the  column I wrote abo...</td>\n",
       "      <td>104</td>\n",
       "      <td>January 17, 2002</td>\n",
       "      <td>https://seths.blog/page/742/</td>\n",
       "    </tr>\n",
       "    <tr>\n",
       "      <th>1</th>\n",
       "      <td>1</td>\n",
       "      <td>24221</td>\n",
       "      <td>https://seths.blog/2002/01/free_ebook_buy_/</td>\n",
       "      <td>Free eBook</td>\n",
       "      <td>Buy a copy of the new paperback edition of  Th...</td>\n",
       "      <td>Buy a copy of the new paperback edition of  Th...</td>\n",
       "      <td>145</td>\n",
       "      <td>NaN</td>\n",
       "      <td>https://seths.blog/page/742/</td>\n",
       "    </tr>\n",
       "    <tr>\n",
       "      <th>2</th>\n",
       "      <td>2</td>\n",
       "      <td>24222</td>\n",
       "      <td>https://seths.blog/2002/01/free_quiz_find_/</td>\n",
       "      <td>Free Quiz</td>\n",
       "      <td>Find out if you zoom. My friend Red did an am...</td>\n",
       "      <td>Find out if you zoom. My friend Red did an am...</td>\n",
       "      <td>112</td>\n",
       "      <td>NaN</td>\n",
       "      <td>https://seths.blog/page/742/</td>\n",
       "    </tr>\n",
       "    <tr>\n",
       "      <th>3</th>\n",
       "      <td>3</td>\n",
       "      <td>24223</td>\n",
       "      <td>https://seths.blog/2002/01/thanks_survival/</td>\n",
       "      <td>Thanks</td>\n",
       "      <td>Survival is Not Enough. hit #4 on the Denver ...</td>\n",
       "      <td>Survival is Not Enough. hit #4 on the Denver ...</td>\n",
       "      <td>140</td>\n",
       "      <td>NaN</td>\n",
       "      <td>https://seths.blog/page/742/</td>\n",
       "    </tr>\n",
       "    <tr>\n",
       "      <th>4</th>\n",
       "      <td>4</td>\n",
       "      <td>24224</td>\n",
       "      <td>https://seths.blog/2002/01/boring_i_was_st/</td>\n",
       "      <td>Boring</td>\n",
       "      <td>I was stranded today. I had to spend hours in ...</td>\n",
       "      <td>I was stranded today. I had to spend hours in ...</td>\n",
       "      <td>618</td>\n",
       "      <td>January 15, 2002</td>\n",
       "      <td>https://seths.blog/page/742/</td>\n",
       "    </tr>\n",
       "  </tbody>\n",
       "</table>\n",
       "</div>"
      ]
     },
     "metadata": {},
     "execution_count": 112
    }
   ],
   "metadata": {}
  },
  {
   "cell_type": "code",
   "execution_count": 113,
   "source": [
    "dataset = dataset[dataset['content_plain'].notna()]\n",
    "\n",
    "dataset = dataset[['content_plain']]"
   ],
   "outputs": [],
   "metadata": {}
  },
  {
   "cell_type": "markdown",
   "source": [
    "## Data Cleaning"
   ],
   "metadata": {}
  },
  {
   "cell_type": "code",
   "execution_count": 114,
   "source": [
    "contractions.add(\"we'll\", 'we will')"
   ],
   "outputs": [],
   "metadata": {}
  },
  {
   "cell_type": "code",
   "execution_count": 115,
   "source": [
    "dataset['content_plain'] = dataset['content_plain'].str.lower()\n",
    "dataset['content_plain'] = dataset['content_plain'].str.replace(\"'s \", \" \")\n",
    "dataset['content_plain'] = dataset['content_plain'].str.replace(\"'s\\.\", \".\")\n",
    "dataset['content_plain'] = dataset['content_plain'].str.replace(\"'s,\", ',')\n",
    "dataset['content_plain'] = dataset['content_plain'].str.replace(\"'s:\", ':')\n",
    "\n",
    "#dataset['content_plain'] = dataset['content_plain'].str.replace(\"'s)\", \")\")\n",
    "dataset['content_plain'] = dataset['content_plain'].str.replace('’', \"'\")\n",
    "\n",
    "dataset['content_plain'] = dataset['content_plain'].apply(lambda post: contractions.fix(post))\n",
    "\n",
    "dataset['content_plain'] = dataset['content_plain'].str.replace(\"n't\", 'nt')\n",
    "dataset['content_plain'] = dataset['content_plain'].str.replace(\"'\", ' ')\n",
    "dataset['content_plain'] = dataset['content_plain'].str.replace('‘', \" \")\n",
    "dataset['content_plain'] = dataset['content_plain'].str.replace('“', ' ')\n",
    "dataset['content_plain'] = dataset['content_plain'].str.replace('”', ' ')\n",
    "dataset['content_plain'] = dataset['content_plain'].str.replace('\"', ' ')\n",
    "dataset['content_plain'] = dataset['content_plain'].str.replace('\\.\\.\\.', '.')\n",
    "dataset['content_plain'] = dataset['content_plain'].str.replace('\\.\\.', '.')\n",
    "dataset['content_plain'] = dataset['content_plain'].str.replace('…', '.')\n",
    "dataset['content_plain'] = dataset['content_plain'].str.replace('—', '-')\n",
    "dataset['content_plain'] = dataset['content_plain'].str.replace('-', ' - ')\n",
    "dataset['content_plain'] = dataset['content_plain'].str.replace('–', ' - ')\n",
    "dataset['content_plain'] = dataset['content_plain'].str.replace(\"™\", ' ')\n",
    "dataset['content_plain'] = dataset['content_plain'].str.replace(\"\\xa0\", ' ')\n",
    "dataset['content_plain'] = dataset['content_plain'].str.replace(\"\\xa02\", ' ')\n",
    "dataset['content_plain'] = dataset['content_plain'].str.replace(\" s \", \"\")"
   ],
   "outputs": [
    {
     "output_type": "stream",
     "name": "stderr",
     "text": [
      "/var/folders/s1/ts3nxvl965lfts126qzdcw300000gn/T/ipykernel_49358/3504906383.py:3: FutureWarning: The default value of regex will change from True to False in a future version.\n",
      "  dataset['content_plain'] = dataset['content_plain'].str.replace(\"'s\\.\", \".\")\n",
      "/var/folders/s1/ts3nxvl965lfts126qzdcw300000gn/T/ipykernel_49358/3504906383.py:18: FutureWarning: The default value of regex will change from True to False in a future version.\n",
      "  dataset['content_plain'] = dataset['content_plain'].str.replace('\\.\\.\\.', '.')\n",
      "/var/folders/s1/ts3nxvl965lfts126qzdcw300000gn/T/ipykernel_49358/3504906383.py:19: FutureWarning: The default value of regex will change from True to False in a future version.\n",
      "  dataset['content_plain'] = dataset['content_plain'].str.replace('\\.\\.', '.')\n"
     ]
    }
   ],
   "metadata": {}
  },
  {
   "cell_type": "code",
   "execution_count": 116,
   "source": [
    "dataset.head(20)"
   ],
   "outputs": [
    {
     "output_type": "execute_result",
     "data": {
      "text/plain": [
       "                                        content_plain\n",
       "0   do not know if you read the  column i wrote ab...\n",
       "1   buy a copy of the new paperback edition of  th...\n",
       "2    find out if you zoom. my friend red did an am...\n",
       "3    survival is not enough. hit #4 on the denver ...\n",
       "4   i was stranded today. i had to spend hours in ...\n",
       "5   working out at the awful marriott outside of t...\n",
       "6   googlesecret  hope it is still live by the tim...\n",
       "7   so there it is, in the fine print at the botto...\n",
       "8   lately, the entertainment mega - companies app...\n",
       "9   the editors at inside.com (now, alas, basicall...\n",
       "10  sorry i have not blogged in a while. I have be...\n",
       "11  there are plenty of myths that have far outlas...\n",
       "12  if you are hearing a buzzing in your ear, it m...\n",
       "13  congress is getting closer to mandating a nati...\n",
       "14  no real business model here, but it is organic...\n",
       "15  (part 1 is below this. go figure.)this is a lo...\n",
       "16  alert readers of fast company will note that I...\n",
       "17  you can go look for it (below) but it appears ...\n",
       "18  readers will know how fond i am of the promoti...\n",
       "19  i hate pledge week on national public radio. i..."
      ],
      "text/html": [
       "<div>\n",
       "<style scoped>\n",
       "    .dataframe tbody tr th:only-of-type {\n",
       "        vertical-align: middle;\n",
       "    }\n",
       "\n",
       "    .dataframe tbody tr th {\n",
       "        vertical-align: top;\n",
       "    }\n",
       "\n",
       "    .dataframe thead th {\n",
       "        text-align: right;\n",
       "    }\n",
       "</style>\n",
       "<table border=\"1\" class=\"dataframe\">\n",
       "  <thead>\n",
       "    <tr style=\"text-align: right;\">\n",
       "      <th></th>\n",
       "      <th>content_plain</th>\n",
       "    </tr>\n",
       "  </thead>\n",
       "  <tbody>\n",
       "    <tr>\n",
       "      <th>0</th>\n",
       "      <td>do not know if you read the  column i wrote ab...</td>\n",
       "    </tr>\n",
       "    <tr>\n",
       "      <th>1</th>\n",
       "      <td>buy a copy of the new paperback edition of  th...</td>\n",
       "    </tr>\n",
       "    <tr>\n",
       "      <th>2</th>\n",
       "      <td>find out if you zoom. my friend red did an am...</td>\n",
       "    </tr>\n",
       "    <tr>\n",
       "      <th>3</th>\n",
       "      <td>survival is not enough. hit #4 on the denver ...</td>\n",
       "    </tr>\n",
       "    <tr>\n",
       "      <th>4</th>\n",
       "      <td>i was stranded today. i had to spend hours in ...</td>\n",
       "    </tr>\n",
       "    <tr>\n",
       "      <th>5</th>\n",
       "      <td>working out at the awful marriott outside of t...</td>\n",
       "    </tr>\n",
       "    <tr>\n",
       "      <th>6</th>\n",
       "      <td>googlesecret  hope it is still live by the tim...</td>\n",
       "    </tr>\n",
       "    <tr>\n",
       "      <th>7</th>\n",
       "      <td>so there it is, in the fine print at the botto...</td>\n",
       "    </tr>\n",
       "    <tr>\n",
       "      <th>8</th>\n",
       "      <td>lately, the entertainment mega - companies app...</td>\n",
       "    </tr>\n",
       "    <tr>\n",
       "      <th>9</th>\n",
       "      <td>the editors at inside.com (now, alas, basicall...</td>\n",
       "    </tr>\n",
       "    <tr>\n",
       "      <th>10</th>\n",
       "      <td>sorry i have not blogged in a while. I have be...</td>\n",
       "    </tr>\n",
       "    <tr>\n",
       "      <th>11</th>\n",
       "      <td>there are plenty of myths that have far outlas...</td>\n",
       "    </tr>\n",
       "    <tr>\n",
       "      <th>12</th>\n",
       "      <td>if you are hearing a buzzing in your ear, it m...</td>\n",
       "    </tr>\n",
       "    <tr>\n",
       "      <th>13</th>\n",
       "      <td>congress is getting closer to mandating a nati...</td>\n",
       "    </tr>\n",
       "    <tr>\n",
       "      <th>14</th>\n",
       "      <td>no real business model here, but it is organic...</td>\n",
       "    </tr>\n",
       "    <tr>\n",
       "      <th>15</th>\n",
       "      <td>(part 1 is below this. go figure.)this is a lo...</td>\n",
       "    </tr>\n",
       "    <tr>\n",
       "      <th>16</th>\n",
       "      <td>alert readers of fast company will note that I...</td>\n",
       "    </tr>\n",
       "    <tr>\n",
       "      <th>17</th>\n",
       "      <td>you can go look for it (below) but it appears ...</td>\n",
       "    </tr>\n",
       "    <tr>\n",
       "      <th>18</th>\n",
       "      <td>readers will know how fond i am of the promoti...</td>\n",
       "    </tr>\n",
       "    <tr>\n",
       "      <th>19</th>\n",
       "      <td>i hate pledge week on national public radio. i...</td>\n",
       "    </tr>\n",
       "  </tbody>\n",
       "</table>\n",
       "</div>"
      ]
     },
     "metadata": {},
     "execution_count": 116
    }
   ],
   "metadata": {}
  },
  {
   "cell_type": "code",
   "execution_count": 117,
   "source": [
    "# filter out posts that contains websites, URLs, emails, etc"
   ],
   "outputs": [],
   "metadata": {}
  },
  {
   "cell_type": "markdown",
   "source": [
    "## Text Statistical Analysis"
   ],
   "metadata": {}
  },
  {
   "cell_type": "code",
   "execution_count": 118,
   "source": [
    "dataset['word_count'] = dataset['content_plain'].apply(lambda x: len(str(x).split()))"
   ],
   "outputs": [],
   "metadata": {}
  },
  {
   "cell_type": "code",
   "execution_count": 119,
   "source": [
    "dataset = dataset[dataset['word_count'] >= 20]\n",
    "\n",
    "dataset"
   ],
   "outputs": [
    {
     "output_type": "execute_result",
     "data": {
      "text/plain": [
       "                                          content_plain  word_count\n",
       "0     do not know if you read the  column i wrote ab...         124\n",
       "1     buy a copy of the new paperback edition of  th...         161\n",
       "2      find out if you zoom. my friend red did an am...          89\n",
       "3      survival is not enough. hit #4 on the denver ...          50\n",
       "4     i was stranded today. i had to spend hours in ...         110\n",
       "...                                                 ...         ...\n",
       "7400  without a doubt, todayaverage jazz producer ha...         133\n",
       "7401  mathematicians do not need to check in with th...         246\n",
       "7402  i just noticed something about the ubiquitous ...          41\n",
       "7403  me & nowvs.us & laterthis is the conflict ever...         563\n",
       "7404  if you are under 14:  good. it is good that yo...         179\n",
       "\n",
       "[7138 rows x 2 columns]"
      ],
      "text/html": [
       "<div>\n",
       "<style scoped>\n",
       "    .dataframe tbody tr th:only-of-type {\n",
       "        vertical-align: middle;\n",
       "    }\n",
       "\n",
       "    .dataframe tbody tr th {\n",
       "        vertical-align: top;\n",
       "    }\n",
       "\n",
       "    .dataframe thead th {\n",
       "        text-align: right;\n",
       "    }\n",
       "</style>\n",
       "<table border=\"1\" class=\"dataframe\">\n",
       "  <thead>\n",
       "    <tr style=\"text-align: right;\">\n",
       "      <th></th>\n",
       "      <th>content_plain</th>\n",
       "      <th>word_count</th>\n",
       "    </tr>\n",
       "  </thead>\n",
       "  <tbody>\n",
       "    <tr>\n",
       "      <th>0</th>\n",
       "      <td>do not know if you read the  column i wrote ab...</td>\n",
       "      <td>124</td>\n",
       "    </tr>\n",
       "    <tr>\n",
       "      <th>1</th>\n",
       "      <td>buy a copy of the new paperback edition of  th...</td>\n",
       "      <td>161</td>\n",
       "    </tr>\n",
       "    <tr>\n",
       "      <th>2</th>\n",
       "      <td>find out if you zoom. my friend red did an am...</td>\n",
       "      <td>89</td>\n",
       "    </tr>\n",
       "    <tr>\n",
       "      <th>3</th>\n",
       "      <td>survival is not enough. hit #4 on the denver ...</td>\n",
       "      <td>50</td>\n",
       "    </tr>\n",
       "    <tr>\n",
       "      <th>4</th>\n",
       "      <td>i was stranded today. i had to spend hours in ...</td>\n",
       "      <td>110</td>\n",
       "    </tr>\n",
       "    <tr>\n",
       "      <th>...</th>\n",
       "      <td>...</td>\n",
       "      <td>...</td>\n",
       "    </tr>\n",
       "    <tr>\n",
       "      <th>7400</th>\n",
       "      <td>without a doubt, todayaverage jazz producer ha...</td>\n",
       "      <td>133</td>\n",
       "    </tr>\n",
       "    <tr>\n",
       "      <th>7401</th>\n",
       "      <td>mathematicians do not need to check in with th...</td>\n",
       "      <td>246</td>\n",
       "    </tr>\n",
       "    <tr>\n",
       "      <th>7402</th>\n",
       "      <td>i just noticed something about the ubiquitous ...</td>\n",
       "      <td>41</td>\n",
       "    </tr>\n",
       "    <tr>\n",
       "      <th>7403</th>\n",
       "      <td>me &amp; nowvs.us &amp; laterthis is the conflict ever...</td>\n",
       "      <td>563</td>\n",
       "    </tr>\n",
       "    <tr>\n",
       "      <th>7404</th>\n",
       "      <td>if you are under 14:  good. it is good that yo...</td>\n",
       "      <td>179</td>\n",
       "    </tr>\n",
       "  </tbody>\n",
       "</table>\n",
       "<p>7138 rows × 2 columns</p>\n",
       "</div>"
      ]
     },
     "metadata": {},
     "execution_count": 119
    }
   ],
   "metadata": {}
  },
  {
   "cell_type": "code",
   "execution_count": 123,
   "source": [
    "dataset[dataset['word_count'] >= 4000]\n"
   ],
   "outputs": [
    {
     "output_type": "execute_result",
     "data": {
      "text/plain": [
       "                                          content_plain  word_count\n",
       "9     the editors at inside.com (now, alas, basicall...        4649\n",
       "2477  as promised, I have put together a pdf transcr...        4946"
      ],
      "text/html": [
       "<div>\n",
       "<style scoped>\n",
       "    .dataframe tbody tr th:only-of-type {\n",
       "        vertical-align: middle;\n",
       "    }\n",
       "\n",
       "    .dataframe tbody tr th {\n",
       "        vertical-align: top;\n",
       "    }\n",
       "\n",
       "    .dataframe thead th {\n",
       "        text-align: right;\n",
       "    }\n",
       "</style>\n",
       "<table border=\"1\" class=\"dataframe\">\n",
       "  <thead>\n",
       "    <tr style=\"text-align: right;\">\n",
       "      <th></th>\n",
       "      <th>content_plain</th>\n",
       "      <th>word_count</th>\n",
       "    </tr>\n",
       "  </thead>\n",
       "  <tbody>\n",
       "    <tr>\n",
       "      <th>9</th>\n",
       "      <td>the editors at inside.com (now, alas, basicall...</td>\n",
       "      <td>4649</td>\n",
       "    </tr>\n",
       "    <tr>\n",
       "      <th>2477</th>\n",
       "      <td>as promised, I have put together a pdf transcr...</td>\n",
       "      <td>4946</td>\n",
       "    </tr>\n",
       "  </tbody>\n",
       "</table>\n",
       "</div>"
      ]
     },
     "metadata": {},
     "execution_count": 123
    }
   ],
   "metadata": {}
  },
  {
   "cell_type": "code",
   "execution_count": 130,
   "source": [
    "sns.histplot(data=dataset[dataset['word_count'] < 300], x='word_count');"
   ],
   "outputs": [
    {
     "output_type": "display_data",
     "data": {
      "text/plain": [
       "<Figure size 432x288 with 1 Axes>"
      ],
      "image/png": "[encoded data removed]"
     },
     "metadata": {
      "needs_background": "light"
     }
    }
   ],
   "metadata": {}
  },
  {
   "cell_type": "markdown",
   "source": [
    "## Ngram Analysis"
   ],
   "metadata": {}
  },
  {
   "cell_type": "code",
   "execution_count": null,
   "source": [],
   "outputs": [],
   "metadata": {}
  },
  {
   "cell_type": "code",
   "execution_count": 121,
   "source": [
    "dataset.to_csv('../data/clean_dataset.csv', index=False)"
   ],
   "outputs": [],
   "metadata": {}
  }
 ],
 "metadata": {
  "orig_nbformat": 4,
  "language_info": {
   "name": "python",
   "version": "3.9.4",
   "mimetype": "text/x-python",
   "codemirror_mode": {
    "name": "ipython",
    "version": 3
   },
   "pygments_lexer": "ipython3",
   "nbconvert_exporter": "python",
   "file_extension": ".py"
  },
  "kernelspec": {
   "name": "python3",
   "display_name": "Python 3.9.4 64-bit ('.venv': poetry)"
  },
  "interpreter": {
   "hash": "48da2543d99b7e25df2960cab0c8d75100aa983c1fb160678ca68deb5631dd48"
  }
 },
 "nbformat": 4,
 "nbformat_minor": 2
}