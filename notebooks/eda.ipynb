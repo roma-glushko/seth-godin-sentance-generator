{
 "cells": [
  {
   "cell_type": "code",
   "execution_count": 1,
   "source": [
    "import pandas as pd\n",
    "import contractions\n",
    "\n",
    "from sklearn"
   ],
   "outputs": [],
   "metadata": {}
  },
  {
   "cell_type": "markdown",
   "source": [
    "# Seth Godin's Blog Dataset - EDA"
   ],
   "metadata": {}
  },
  {
   "cell_type": "code",
   "execution_count": 2,
   "source": [
    "dataset = pd.read_csv('../data/seth-data.csv')\n",
    "\n",
    "dataset.head()"
   ],
   "outputs": [
    {
     "output_type": "execute_result",
     "data": {
      "text/plain": [
       "   Unnamed: 0     id                                          url  \\\n",
       "0           0  24220  https://seths.blog/2002/01/free_signed_cop/   \n",
       "1           1  24221  https://seths.blog/2002/01/free_ebook_buy_/   \n",
       "2           2  24222  https://seths.blog/2002/01/free_quiz_find_/   \n",
       "3           3  24223  https://seths.blog/2002/01/thanks_survival/   \n",
       "4           4  24224  https://seths.blog/2002/01/boring_i_was_st/   \n",
       "\n",
       "                                        title  \\\n",
       "0  Free Signed Copy of SURVIVAL IS NOT ENOUGH   \n",
       "1                                  Free eBook   \n",
       "2                                   Free Quiz   \n",
       "3                                      Thanks   \n",
       "4                                      Boring   \n",
       "\n",
       "                                       content_plain  \\\n",
       "0  Don’t know if you read the  column I wrote abo...   \n",
       "1  Buy a copy of the new paperback edition of  Th...   \n",
       "2   Find out if you zoom. My friend Red did an am...   \n",
       "3   Survival is Not Enough. hit #4 on the Denver ...   \n",
       "4  I was stranded today. I had to spend hours in ...   \n",
       "\n",
       "                                        content_html  stars  publication-date  \\\n",
       "0  Don’t know if you read the  column I wrote abo...    104  January 17, 2002   \n",
       "1  Buy a copy of the new paperback edition of  Th...    145               NaN   \n",
       "2   Find out if you zoom. My friend Red did an am...    112               NaN   \n",
       "3   Survival is Not Enough. hit #4 on the Denver ...    140               NaN   \n",
       "4  I was stranded today. I had to spend hours in ...    618  January 15, 2002   \n",
       "\n",
       "                   referral-url  \n",
       "0  https://seths.blog/page/742/  \n",
       "1  https://seths.blog/page/742/  \n",
       "2  https://seths.blog/page/742/  \n",
       "3  https://seths.blog/page/742/  \n",
       "4  https://seths.blog/page/742/  "
      ],
      "text/html": [
       "<div>\n",
       "<style scoped>\n",
       "    .dataframe tbody tr th:only-of-type {\n",
       "        vertical-align: middle;\n",
       "    }\n",
       "\n",
       "    .dataframe tbody tr th {\n",
       "        vertical-align: top;\n",
       "    }\n",
       "\n",
       "    .dataframe thead th {\n",
       "        text-align: right;\n",
       "    }\n",
       "</style>\n",
       "<table border=\"1\" class=\"dataframe\">\n",
       "  <thead>\n",
       "    <tr style=\"text-align: right;\">\n",
       "      <th></th>\n",
       "      <th>Unnamed: 0</th>\n",
       "      <th>id</th>\n",
       "      <th>url</th>\n",
       "      <th>title</th>\n",
       "      <th>content_plain</th>\n",
       "      <th>content_html</th>\n",
       "      <th>stars</th>\n",
       "      <th>publication-date</th>\n",
       "      <th>referral-url</th>\n",
       "    </tr>\n",
       "  </thead>\n",
       "  <tbody>\n",
       "    <tr>\n",
       "      <th>0</th>\n",
       "      <td>0</td>\n",
       "      <td>24220</td>\n",
       "      <td>https://seths.blog/2002/01/free_signed_cop/</td>\n",
       "      <td>Free Signed Copy of SURVIVAL IS NOT ENOUGH</td>\n",
       "      <td>Don’t know if you read the  column I wrote abo...</td>\n",
       "      <td>Don’t know if you read the  column I wrote abo...</td>\n",
       "      <td>104</td>\n",
       "      <td>January 17, 2002</td>\n",
       "      <td>https://seths.blog/page/742/</td>\n",
       "    </tr>\n",
       "    <tr>\n",
       "      <th>1</th>\n",
       "      <td>1</td>\n",
       "      <td>24221</td>\n",
       "      <td>https://seths.blog/2002/01/free_ebook_buy_/</td>\n",
       "      <td>Free eBook</td>\n",
       "      <td>Buy a copy of the new paperback edition of  Th...</td>\n",
       "      <td>Buy a copy of the new paperback edition of  Th...</td>\n",
       "      <td>145</td>\n",
       "      <td>NaN</td>\n",
       "      <td>https://seths.blog/page/742/</td>\n",
       "    </tr>\n",
       "    <tr>\n",
       "      <th>2</th>\n",
       "      <td>2</td>\n",
       "      <td>24222</td>\n",
       "      <td>https://seths.blog/2002/01/free_quiz_find_/</td>\n",
       "      <td>Free Quiz</td>\n",
       "      <td>Find out if you zoom. My friend Red did an am...</td>\n",
       "      <td>Find out if you zoom. My friend Red did an am...</td>\n",
       "      <td>112</td>\n",
       "      <td>NaN</td>\n",
       "      <td>https://seths.blog/page/742/</td>\n",
       "    </tr>\n",
       "    <tr>\n",
       "      <th>3</th>\n",
       "      <td>3</td>\n",
       "      <td>24223</td>\n",
       "      <td>https://seths.blog/2002/01/thanks_survival/</td>\n",
       "      <td>Thanks</td>\n",
       "      <td>Survival is Not Enough. hit #4 on the Denver ...</td>\n",
       "      <td>Survival is Not Enough. hit #4 on the Denver ...</td>\n",
       "      <td>140</td>\n",
       "      <td>NaN</td>\n",
       "      <td>https://seths.blog/page/742/</td>\n",
       "    </tr>\n",
       "    <tr>\n",
       "      <th>4</th>\n",
       "      <td>4</td>\n",
       "      <td>24224</td>\n",
       "      <td>https://seths.blog/2002/01/boring_i_was_st/</td>\n",
       "      <td>Boring</td>\n",
       "      <td>I was stranded today. I had to spend hours in ...</td>\n",
       "      <td>I was stranded today. I had to spend hours in ...</td>\n",
       "      <td>618</td>\n",
       "      <td>January 15, 2002</td>\n",
       "      <td>https://seths.blog/page/742/</td>\n",
       "    </tr>\n",
       "  </tbody>\n",
       "</table>\n",
       "</div>"
      ]
     },
     "metadata": {},
     "execution_count": 2
    }
   ],
   "metadata": {}
  },
  {
   "cell_type": "code",
   "execution_count": 3,
   "source": [
    "dataset = dataset[dataset['content_plain'].notna()]\n",
    "\n",
    "dataset = dataset[['content_plain']]"
   ],
   "outputs": [],
   "metadata": {}
  },
  {
   "cell_type": "markdown",
   "source": [
    "## Data Cleaning"
   ],
   "metadata": {}
  },
  {
   "cell_type": "code",
   "execution_count": 4,
   "source": [
    "dataset['content_plain'] = dataset['content_plain'].str.replace('’', \"'\")\n",
    "dataset['content_plain'] = dataset['content_plain'].str.replace('’', \"'\")\n",
    "dataset['content_plain'] = dataset['content_plain'].str.replace('“', '\"')\n",
    "dataset['content_plain'] = dataset['content_plain'].str.replace('“', '\"')\n",
    "dataset['content_plain'] = dataset['content_plain'].str.replace('”', '\"')\n",
    "dataset['content_plain'] = dataset['content_plain'].str.replace('”', '\"')\n",
    "dataset['content_plain'] = dataset['content_plain'].str.replace('\\.\\.\\.', '…')\n",
    "dataset['content_plain'] = dataset['content_plain'].str.replace('\\.\\.', '…')"
   ],
   "outputs": [
    {
     "output_type": "stream",
     "name": "stderr",
     "text": [
      "/var/folders/s1/ts3nxvl965lfts126qzdcw300000gn/T/ipykernel_29371/1793159081.py:7: FutureWarning: The default value of regex will change from True to False in a future version.\n",
      "  dataset['content_plain'] = dataset['content_plain'].str.replace('\\.\\.\\.', '…')\n",
      "/var/folders/s1/ts3nxvl965lfts126qzdcw300000gn/T/ipykernel_29371/1793159081.py:8: FutureWarning: The default value of regex will change from True to False in a future version.\n",
      "  dataset['content_plain'] = dataset['content_plain'].str.replace('\\.\\.', '…')\n"
     ]
    }
   ],
   "metadata": {}
  },
  {
   "cell_type": "code",
   "execution_count": 5,
   "source": [
    "dataset"
   ],
   "outputs": [
    {
     "output_type": "execute_result",
     "data": {
      "text/plain": [
       "                                          content_plain\n",
       "0     Don't know if you read the  column I wrote abo...\n",
       "1     Buy a copy of the new paperback edition of  Th...\n",
       "2      Find out if you zoom. My friend Red did an am...\n",
       "3      Survival is Not Enough. hit #4 on the Denver ...\n",
       "4     I was stranded today. I had to spend hours in ...\n",
       "...                                                 ...\n",
       "7400  Without a doubt, today's average jazz producer...\n",
       "7401  Mathematicians don't need to check in with the...\n",
       "7402  I just noticed something about the ubiquitous ...\n",
       "7403  Me & Nowvs.Us & LaterThis is the conflict ever...\n",
       "7404  If you're under 14: \"Good.\"It's good that you'...\n",
       "\n",
       "[7398 rows x 1 columns]"
      ],
      "text/html": [
       "<div>\n",
       "<style scoped>\n",
       "    .dataframe tbody tr th:only-of-type {\n",
       "        vertical-align: middle;\n",
       "    }\n",
       "\n",
       "    .dataframe tbody tr th {\n",
       "        vertical-align: top;\n",
       "    }\n",
       "\n",
       "    .dataframe thead th {\n",
       "        text-align: right;\n",
       "    }\n",
       "</style>\n",
       "<table border=\"1\" class=\"dataframe\">\n",
       "  <thead>\n",
       "    <tr style=\"text-align: right;\">\n",
       "      <th></th>\n",
       "      <th>content_plain</th>\n",
       "    </tr>\n",
       "  </thead>\n",
       "  <tbody>\n",
       "    <tr>\n",
       "      <th>0</th>\n",
       "      <td>Don't know if you read the  column I wrote abo...</td>\n",
       "    </tr>\n",
       "    <tr>\n",
       "      <th>1</th>\n",
       "      <td>Buy a copy of the new paperback edition of  Th...</td>\n",
       "    </tr>\n",
       "    <tr>\n",
       "      <th>2</th>\n",
       "      <td>Find out if you zoom. My friend Red did an am...</td>\n",
       "    </tr>\n",
       "    <tr>\n",
       "      <th>3</th>\n",
       "      <td>Survival is Not Enough. hit #4 on the Denver ...</td>\n",
       "    </tr>\n",
       "    <tr>\n",
       "      <th>4</th>\n",
       "      <td>I was stranded today. I had to spend hours in ...</td>\n",
       "    </tr>\n",
       "    <tr>\n",
       "      <th>...</th>\n",
       "      <td>...</td>\n",
       "    </tr>\n",
       "    <tr>\n",
       "      <th>7400</th>\n",
       "      <td>Without a doubt, today's average jazz producer...</td>\n",
       "    </tr>\n",
       "    <tr>\n",
       "      <th>7401</th>\n",
       "      <td>Mathematicians don't need to check in with the...</td>\n",
       "    </tr>\n",
       "    <tr>\n",
       "      <th>7402</th>\n",
       "      <td>I just noticed something about the ubiquitous ...</td>\n",
       "    </tr>\n",
       "    <tr>\n",
       "      <th>7403</th>\n",
       "      <td>Me &amp; Nowvs.Us &amp; LaterThis is the conflict ever...</td>\n",
       "    </tr>\n",
       "    <tr>\n",
       "      <th>7404</th>\n",
       "      <td>If you're under 14: \"Good.\"It's good that you'...</td>\n",
       "    </tr>\n",
       "  </tbody>\n",
       "</table>\n",
       "<p>7398 rows × 1 columns</p>\n",
       "</div>"
      ]
     },
     "metadata": {},
     "execution_count": 5
    }
   ],
   "metadata": {}
  },
  {
   "cell_type": "code",
   "execution_count": 6,
   "source": [
    "dataset['content_plain'] = dataset['content_plain'].apply(lambda post: contractions.fix(post))"
   ],
   "outputs": [],
   "metadata": {}
  },
  {
   "cell_type": "code",
   "execution_count": 7,
   "source": [
    "dataset.to_csv('../data/clean_dataset.csv', index=False)"
   ],
   "outputs": [],
   "metadata": {}
  }
 ],
 "metadata": {
  "orig_nbformat": 4,
  "language_info": {
   "name": "python",
   "version": "3.9.4",
   "mimetype": "text/x-python",
   "codemirror_mode": {
    "name": "ipython",
    "version": 3
   },
   "pygments_lexer": "ipython3",
   "nbconvert_exporter": "python",
   "file_extension": ".py"
  },
  "kernelspec": {
   "name": "python3",
   "display_name": "Python 3.9.4 64-bit ('.venv': poetry)"
  },
  "interpreter": {
   "hash": "23df24b22dbe9638814c311f56f42eeaa441297437bf1e8f133dbccc2c979367"
  }
 },
 "nbformat": 4,
 "nbformat_minor": 2
}